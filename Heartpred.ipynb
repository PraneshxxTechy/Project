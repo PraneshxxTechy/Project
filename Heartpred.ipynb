{
  "nbformat": 4,
  "nbformat_minor": 0,
  "metadata": {
    "colab": {
      "provenance": [],
      "authorship_tag": "ABX9TyMTfCx+YlU2CexVt/cuj4EZ",
      "include_colab_link": true
    },
    "kernelspec": {
      "name": "python3",
      "display_name": "Python 3"
    },
    "language_info": {
      "name": "python"
    }
  },
  "cells": [
    {
      "cell_type": "markdown",
      "metadata": {
        "id": "view-in-github",
        "colab_type": "text"
      },
      "source": [
        "<a href=\"https://colab.research.google.com/github/PraneshxxTechy/Project/blob/main/Heartpred.ipynb\" target=\"_parent\"><img src=\"https://colab.research.google.com/assets/colab-badge.svg\" alt=\"Open In Colab\"/></a>"
      ]
    },
    {
      "cell_type": "markdown",
      "source": [
        "\n",
        "**Importing** the required **libraries**"
      ],
      "metadata": {
        "id": "V83MtZlRvzGe"
      }
    },
    {
      "cell_type": "code",
      "execution_count": null,
      "metadata": {
        "id": "7SlNoAUMMOKH"
      },
      "outputs": [],
      "source": [
        "import pandas as pd\n",
        "import numpy as np\n",
        "from sklearn.preprocessing import LabelEncoder\n",
        "from sklearn.model_selection import train_test_split\n",
        "from sklearn.tree import DecisionTreeRegressor\n",
        "from sklearn.linear_model import LogisticRegression\n",
        "from sklearn.ensemble import RandomForestClassifier"
      ]
    },
    {
      "cell_type": "markdown",
      "source": [
        "Reading the **csv file** using **Pandas** library"
      ],
      "metadata": {
        "id": "0bAFRe3Fv6g9"
      }
    },
    {
      "cell_type": "code",
      "source": [
        "data=pd.read_csv('heart.csv')"
      ],
      "metadata": {
        "id": "INzwxBUcOcD5"
      },
      "execution_count": null,
      "outputs": []
    },
    {
      "cell_type": "code",
      "source": [
        "#print(data)"
      ],
      "metadata": {
        "id": "2IGCAprjOcMN"
      },
      "execution_count": null,
      "outputs": []
    },
    {
      "cell_type": "markdown",
      "source": [
        "Converting the **dataset** into a **dataframe** for **manipualation**\n"
      ],
      "metadata": {
        "id": "TbpNPuFzyr0Y"
      }
    },
    {
      "cell_type": "code",
      "source": [
        "df=pd.DataFrame(data)\n",
        "print(df)"
      ],
      "metadata": {
        "id": "3jU7TPUEOcPD"
      },
      "execution_count": null,
      "outputs": []
    },
    {
      "cell_type": "markdown",
      "source": [
        "Importing **IPython.display** for **interactive visualization**"
      ],
      "metadata": {
        "id": "aHlhz18i1p8Y"
      }
    },
    {
      "cell_type": "code",
      "source": [
        "from IPython.display import display\n",
        "display(df)"
      ],
      "metadata": {
        "id": "gswrdYiSPEX5"
      },
      "execution_count": null,
      "outputs": []
    },
    {
      "cell_type": "markdown",
      "source": [
        "**Label Encoder** is used for transforming **string-type** classes to **integers**"
      ],
      "metadata": {
        "id": "hdvhjkHN1y1a"
      }
    },
    {
      "cell_type": "code",
      "source": [
        "l=LabelEncoder()\n",
        "df['famhist']=l.fit_transform(df['famhist'])"
      ],
      "metadata": {
        "id": "0_O72aVQPaSY"
      },
      "execution_count": null,
      "outputs": []
    },
    {
      "cell_type": "code",
      "source": [
        "display(df)"
      ],
      "metadata": {
        "id": "0To2z23hOcSi"
      },
      "execution_count": null,
      "outputs": []
    },
    {
      "cell_type": "markdown",
      "source": [
        "X is the **feature-set** and y is the **target (or) label**. We extract X and y from the datset using **iloc** function from pandas library.In this dataset, **Alcohol** column is taken as target leaving the others as feature-set."
      ],
      "metadata": {
        "id": "bHySa68v1z6E"
      }
    },
    {
      "cell_type": "code",
      "source": [
        "y=df.iloc[:,10]\n",
        "display(y)"
      ],
      "metadata": {
        "id": "uTOYnVgOOcVK"
      },
      "execution_count": null,
      "outputs": []
    },
    {
      "cell_type": "code",
      "source": [
        "X=df.iloc[:,0:10]\n",
        "display(X)"
      ],
      "metadata": {
        "id": "I6bk2Hf_Q6TE"
      },
      "execution_count": null,
      "outputs": []
    },
    {
      "cell_type": "markdown",
      "source": [
        "#train_test_split\n",
        "**Train_test_split** is used to split the dataset into two parts namely **Train** and **test**. The train part is used to for the **training purpose** of the model while the test part is used for the **evaluation of the model**."
      ],
      "metadata": {
        "id": "WducmWTg10_1"
      }
    },
    {
      "cell_type": "code",
      "source": [
        "X_train, X_test, y_train, y_test=train_test_split(X,y)"
      ],
      "metadata": {
        "id": "Tx2c4-xmQ6Vc"
      },
      "execution_count": null,
      "outputs": []
    },
    {
      "cell_type": "code",
      "source": [
        "print(X.shape)\n",
        "print(X_train.size)\n",
        "print(y_test.size)"
      ],
      "metadata": {
        "id": "AOtBr6t-Q6X4"
      },
      "execution_count": null,
      "outputs": []
    },
    {
      "cell_type": "code",
      "source": [
        "X.isnull().sum()\n",
        "y.isnull().sum()"
      ],
      "metadata": {
        "id": "Wj7ZZHi_Q6Za"
      },
      "execution_count": null,
      "outputs": []
    },
    {
      "cell_type": "markdown",
      "source": [
        "**Model Selection**"
      ],
      "metadata": {
        "id": "C87W553412w5"
      }
    },
    {
      "cell_type": "code",
      "source": [
        "model=DecisionTreeRegressor()"
      ],
      "metadata": {
        "id": "BE9hOwDtSnDC"
      },
      "execution_count": null,
      "outputs": []
    },
    {
      "cell_type": "markdown",
      "source": [
        "**Fitting** the **train data** into the model"
      ],
      "metadata": {
        "id": "9OKClsC4138Y"
      }
    },
    {
      "cell_type": "code",
      "source": [
        "model.fit(X_train,y_train)"
      ],
      "metadata": {
        "id": "zR8-T41ZS0Lf"
      },
      "execution_count": null,
      "outputs": []
    },
    {
      "cell_type": "markdown",
      "source": [
        "**Making predictions**"
      ],
      "metadata": {
        "id": "gIiL6DJj14rv"
      }
    },
    {
      "cell_type": "code",
      "source": [
        "pred=model.predict(X_test)"
      ],
      "metadata": {
        "id": "AzgtWXbmTA-A"
      },
      "execution_count": null,
      "outputs": []
    },
    {
      "cell_type": "markdown",
      "source": [
        "**Evalution** of the **performance** of the model"
      ],
      "metadata": {
        "id": "Hi7r0MVs15qr"
      }
    },
    {
      "cell_type": "code",
      "source": [
        "from sklearn.metrics import accuracy_score"
      ],
      "metadata": {
        "id": "0nPJkN9oTKtY"
      },
      "execution_count": null,
      "outputs": []
    },
    {
      "cell_type": "markdown",
      "source": [
        "**Accuracy score** of the model"
      ],
      "metadata": {
        "id": "XHWi_dBs16cp"
      }
    },
    {
      "cell_type": "code",
      "source": [
        "acc=accuracy_score(pred,y_test)"
      ],
      "metadata": {
        "id": "8k1elAZWTcaP"
      },
      "execution_count": null,
      "outputs": []
    },
    {
      "cell_type": "code",
      "source": [
        "print(acc)"
      ],
      "metadata": {
        "colab": {
          "base_uri": "https://localhost:8080/"
        },
        "id": "NwkJ31PSTlVB",
        "outputId": "d35aa3eb-a9f1-454d-c698-b93239f0de2d"
      },
      "execution_count": null,
      "outputs": [
        {
          "output_type": "stream",
          "name": "stdout",
          "text": [
            "0.5258620689655172\n"
          ]
        }
      ]
    }
  ]
}