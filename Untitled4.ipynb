{
 "cells": [
  {
   "cell_type": "code",
   "execution_count": 2,
   "id": "a67c3b6e",
   "metadata": {},
   "outputs": [],
   "source": [
    "#Importing the opencv module\n",
    "import cv2\n",
    "#naming the panel for camera output.\n",
    "win_name=\"Camera preview\"\n",
    "s=0 #This command detects the camera source and sets it for further process('0' refers Primary camera). \n",
    "count=0 # We use a variable 'count' to save the image to store images with different file name.\n",
    "#Initializing source as the primary camera.\n",
    "source=cv2.VideoCapture(s)# This in-built opencv command sets the primary camera as the source. \n",
    "while source.isOpened(): # The while loop executes when the source is opened.\n",
    "    ret,frame=source.read() # Reads the input through camera.\n",
    "    if not ret:\n",
    "        break\n",
    "    image=cv2.cvtColor(frame,cv2.COLOR_BGR2GRAY) # Converts the image color from color to gray.\n",
    "    face=cv2.CascadeClassifier('untitled.xml') # The xml file conatins the info to detect faces.\n",
    "    face_rectangle=face.detectMultiScale(image,minSize=(150,150)) # Detects the image with the given dimension.\n",
    "    if len(face_rectangle)!=0: # This works only when there are faces found.\n",
    "        for (x, y, w, h) in face_rectangle: # For every iteration the co-ordinates are altered as per the movement of face.\n",
    "            x1=x+w\n",
    "            y1=y+h\n",
    "            cv2.rectangle(frame, (x, y), (x1, y1), (0, 255, 0), thickness=2)\n",
    "            im=frame.copy() # Copy of the frame is used for the cropping process.\n",
    "            cv2.putText(frame, 'Pranesh', (x, y-10), cv2.FONT_HERSHEY_COMPLEX, 0.5, (0,0,255), 1) # Helps to put text next to the rectangle.\n",
    "            crop=im[y:y1,x:x1]\n",
    "    cv2.imshow('Detected faces', frame) \n",
    "    if cv2.waitKey(1)==ord(\"a\"): # This command helps us to crop the face from the background by pressing the character \"a\".\n",
    "        cv2.imwrite(\"image\"+str(count)+\".jpeg\", frame) # In-built command imwrite writes the image in the requirred directory\n",
    "        cv2.imwrite(r\"crop/\"\"crop\"+str(count)+\".jpeg\", crop) # The command store the images in file named crop.\n",
    "        count=count+1 # The count is increased for every iteration to differentiate image names.\n",
    "    elif cv2.waitKey(1)==ord(\"d\"): # This command helps us to stop the execution by pressing the character \"d\".\n",
    "        break\n",
    "source.release() # The source which is used is released.\n",
    "cv2.destroyAllWindows() # Windows are destroyed to denote the end of execution"
   ]
  },
  {
   "cell_type": "code",
   "execution_count": null,
   "id": "0e6340d9",
   "metadata": {},
   "outputs": [],
   "source": []
  }
 ],
 "metadata": {
  "kernelspec": {
   "display_name": "Python 3 (ipykernel)",
   "language": "python",
   "name": "python3"
  },
  "language_info": {
   "codemirror_mode": {
    "name": "ipython",
    "version": 3
   },
   "file_extension": ".py",
   "mimetype": "text/x-python",
   "name": "python",
   "nbconvert_exporter": "python",
   "pygments_lexer": "ipython3",
   "version": "3.11.5"
  }
 },
 "nbformat": 4,
 "nbformat_minor": 5
}
