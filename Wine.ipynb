{
  "nbformat": 4,
  "nbformat_minor": 0,
  "metadata": {
    "colab": {
      "provenance": [],
      "authorship_tag": "ABX9TyPwTA93SAotriqIV9N9rCdH",
      "include_colab_link": true
    },
    "kernelspec": {
      "name": "python3",
      "display_name": "Python 3"
    },
    "language_info": {
      "name": "python"
    }
  },
  "cells": [
    {
      "cell_type": "markdown",
      "metadata": {
        "id": "view-in-github",
        "colab_type": "text"
      },
      "source": [
        "<a href=\"https://colab.research.google.com/github/PraneshxxTechy/Project/blob/main/Wine.ipynb\" target=\"_parent\"><img src=\"https://colab.research.google.com/assets/colab-badge.svg\" alt=\"Open In Colab\"/></a>"
      ]
    },
    {
      "cell_type": "markdown",
      "source": [
        "**Importing Pandas**\n",
        "Pandas are mainly used dataset manipulation and to present data in a tabular format\n"
      ],
      "metadata": {
        "id": "xWEd71QU6Qzk"
      }
    },
    {
      "cell_type": "code",
      "execution_count": 41,
      "metadata": {
        "id": "e_4dronC6ONI"
      },
      "outputs": [],
      "source": [
        "import pandas as pd"
      ]
    },
    {
      "cell_type": "markdown",
      "source": [
        "**pd.read_csv** is used to read the **Csv file** and are converted into a **Dataframe**"
      ],
      "metadata": {
        "id": "M_4mw35h6nbR"
      }
    },
    {
      "cell_type": "code",
      "source": [
        "df=pd.read_csv(\"/content/wine.csv\")"
      ],
      "metadata": {
        "id": "WB0TRzO26nmG"
      },
      "execution_count": 42,
      "outputs": []
    },
    {
      "cell_type": "markdown",
      "source": [
        "**Printing** the **dataframe** to see whether the dataset is read properly."
      ],
      "metadata": {
        "id": "GrIrXgL66oDd"
      }
    },
    {
      "cell_type": "code",
      "source": [
        "print(df)"
      ],
      "metadata": {
        "colab": {
          "base_uri": "https://localhost:8080/"
        },
        "id": "QLzXmhJC6oSC",
        "outputId": "d516ec49-d2da-4d68-b6d2-ea4b8c27c4c4"
      },
      "execution_count": 43,
      "outputs": [
        {
          "output_type": "stream",
          "name": "stdout",
          "text": [
            "    Alcohol   Malic acid   Ash   Alcalinity of ash   Magnesium  \\\n",
            "1     14.23         1.71  2.43                15.6         127   \n",
            "1     13.20         1.78  2.14                11.2         100   \n",
            "1     13.16         2.36  2.67                18.6         101   \n",
            "1     14.37         1.95  2.50                16.8         113   \n",
            "1     13.24         2.59  2.87                21.0         118   \n",
            "..      ...          ...   ...                 ...         ...   \n",
            "3     13.71         5.65  2.45                20.5          95   \n",
            "3     13.40         3.91  2.48                23.0         102   \n",
            "3     13.27         4.28  2.26                20.0         120   \n",
            "3     13.17         2.59  2.37                20.0         120   \n",
            "3     14.13         4.10  2.74                24.5          96   \n",
            "\n",
            "     Total phenols   Flavanoids   Nonflavanoids phenols   Proanthocyanins  \\\n",
            "1             2.80         3.06                    0.28              2.29   \n",
            "1             2.65         2.76                    0.26              1.28   \n",
            "1             2.80         3.24                    0.30              2.81   \n",
            "1             3.85         3.49                    0.24              2.18   \n",
            "1             2.80         2.69                    0.39              1.82   \n",
            "..             ...          ...                     ...               ...   \n",
            "3             1.68         0.61                    0.52              1.06   \n",
            "3             1.80         0.75                    0.43              1.41   \n",
            "3             1.59         0.69                    0.43              1.35   \n",
            "3             1.65         0.68                    0.53              1.46   \n",
            "3             2.05         0.76                    0.56              1.35   \n",
            "\n",
            "     Color intensity   Hue   OD280/OD315 of diluted wines   Prolines  \n",
            "1               5.64  1.04                           3.92       1065  \n",
            "1               4.38  1.05                           3.40       1050  \n",
            "1               5.68  1.03                           3.17       1185  \n",
            "1               7.80  0.86                           3.45       1480  \n",
            "1               4.32  1.04                           2.93        735  \n",
            "..               ...   ...                            ...        ...  \n",
            "3               7.70  0.64                           1.74        740  \n",
            "3               7.30  0.70                           1.56        750  \n",
            "3              10.20  0.59                           1.56        835  \n",
            "3               9.30  0.60                           1.62        840  \n",
            "3               9.20  0.61                           1.60        560  \n",
            "\n",
            "[178 rows x 13 columns]\n"
          ]
        }
      ]
    },
    {
      "cell_type": "markdown",
      "source": [
        "**Scikit Learn**\n",
        "Scikit Learn is a python library used for **machine learning**. It contains many function through which machine learning tasks can be applied to the real-world application."
      ],
      "metadata": {
        "id": "bPPOKUmd6pSf"
      }
    },
    {
      "cell_type": "code",
      "source": [
        "from sklearn.model_selection import train_test_split\n",
        "from sklearn.metrics import accuracy_score\n",
        "import matplotlib.pyplot as plt"
      ],
      "metadata": {
        "id": "3rPYy9qo6ppm"
      },
      "execution_count": 44,
      "outputs": []
    },
    {
      "cell_type": "markdown",
      "source": [
        "X is the **feature-set** and y is the **target (or) label**. We extract X and y from the datset using **iloc** function from pandas library.In this dataset, **Alcohol** column is taken as target leaving the others as feature-set."
      ],
      "metadata": {
        "id": "XGayoBnH6p9-"
      }
    },
    {
      "cell_type": "code",
      "source": [
        "X=df.iloc[:,1:]\n",
        "y=df.iloc[:,0]"
      ],
      "metadata": {
        "id": "ObX8Q6g46qJ2"
      },
      "execution_count": 45,
      "outputs": []
    },
    {
      "cell_type": "code",
      "source": [
        "col_names=list(X)"
      ],
      "metadata": {
        "id": "u34dhypO_b01"
      },
      "execution_count": 46,
      "outputs": []
    },
    {
      "cell_type": "code",
      "source": [
        "print(col_names)"
      ],
      "metadata": {
        "colab": {
          "base_uri": "https://localhost:8080/"
        },
        "id": "PUOXX9qR_r8F",
        "outputId": "ee6e7891-c800-4ced-f850-94cb4c6c62ae"
      },
      "execution_count": 47,
      "outputs": [
        {
          "output_type": "stream",
          "name": "stdout",
          "text": [
            "[' Malic acid', ' Ash', ' Alcalinity of ash', ' Magnesium', ' Total phenols', ' Flavanoids', ' Nonflavanoids phenols', ' Proanthocyanins', ' Color intensity', ' Hue', ' OD280/OD315 of diluted wines', ' Prolines']\n"
          ]
        }
      ]
    },
    {
      "cell_type": "markdown",
      "source": [
        "Displaying **X** and **y**"
      ],
      "metadata": {
        "id": "HaKgy9V66rDx"
      }
    },
    {
      "cell_type": "code",
      "source": [
        "print(X)"
      ],
      "metadata": {
        "colab": {
          "base_uri": "https://localhost:8080/"
        },
        "id": "uk6_nu936rS-",
        "outputId": "879cd44b-9cf4-4b5f-b282-a7e67b7139e5"
      },
      "execution_count": 48,
      "outputs": [
        {
          "output_type": "stream",
          "name": "stdout",
          "text": [
            "     Malic acid   Ash   Alcalinity of ash   Magnesium   Total phenols  \\\n",
            "1          1.71  2.43                15.6         127            2.80   \n",
            "1          1.78  2.14                11.2         100            2.65   \n",
            "1          2.36  2.67                18.6         101            2.80   \n",
            "1          1.95  2.50                16.8         113            3.85   \n",
            "1          2.59  2.87                21.0         118            2.80   \n",
            "..          ...   ...                 ...         ...             ...   \n",
            "3          5.65  2.45                20.5          95            1.68   \n",
            "3          3.91  2.48                23.0         102            1.80   \n",
            "3          4.28  2.26                20.0         120            1.59   \n",
            "3          2.59  2.37                20.0         120            1.65   \n",
            "3          4.10  2.74                24.5          96            2.05   \n",
            "\n",
            "     Flavanoids   Nonflavanoids phenols   Proanthocyanins   Color intensity  \\\n",
            "1          3.06                    0.28              2.29              5.64   \n",
            "1          2.76                    0.26              1.28              4.38   \n",
            "1          3.24                    0.30              2.81              5.68   \n",
            "1          3.49                    0.24              2.18              7.80   \n",
            "1          2.69                    0.39              1.82              4.32   \n",
            "..          ...                     ...               ...               ...   \n",
            "3          0.61                    0.52              1.06              7.70   \n",
            "3          0.75                    0.43              1.41              7.30   \n",
            "3          0.69                    0.43              1.35             10.20   \n",
            "3          0.68                    0.53              1.46              9.30   \n",
            "3          0.76                    0.56              1.35              9.20   \n",
            "\n",
            "     Hue   OD280/OD315 of diluted wines   Prolines  \n",
            "1   1.04                           3.92       1065  \n",
            "1   1.05                           3.40       1050  \n",
            "1   1.03                           3.17       1185  \n",
            "1   0.86                           3.45       1480  \n",
            "1   1.04                           2.93        735  \n",
            "..   ...                            ...        ...  \n",
            "3   0.64                           1.74        740  \n",
            "3   0.70                           1.56        750  \n",
            "3   0.59                           1.56        835  \n",
            "3   0.60                           1.62        840  \n",
            "3   0.61                           1.60        560  \n",
            "\n",
            "[178 rows x 12 columns]\n"
          ]
        }
      ]
    },
    {
      "cell_type": "code",
      "source": [
        "print(y)"
      ],
      "metadata": {
        "colab": {
          "base_uri": "https://localhost:8080/"
        },
        "id": "2gYggHAz6s4g",
        "outputId": "ec109193-2ecd-4bee-f99e-04fcc205fdcf"
      },
      "execution_count": 49,
      "outputs": [
        {
          "output_type": "stream",
          "name": "stdout",
          "text": [
            "1    14.23\n",
            "1    13.20\n",
            "1    13.16\n",
            "1    14.37\n",
            "1    13.24\n",
            "     ...  \n",
            "3    13.71\n",
            "3    13.40\n",
            "3    13.27\n",
            "3    13.17\n",
            "3    14.13\n",
            "Name: Alcohol, Length: 178, dtype: float64\n"
          ]
        }
      ]
    },
    {
      "cell_type": "markdown",
      "source": [
        "Importing **StandardScaler** to scale the dataset as the **feature** with **large value** would dominate the others. It works by making the **mean zero**."
      ],
      "metadata": {
        "id": "kirkCDd97kmy"
      }
    },
    {
      "cell_type": "code",
      "source": [
        "from sklearn.preprocessing import StandardScaler"
      ],
      "metadata": {
        "id": "DftnnBk27k-d"
      },
      "execution_count": 56,
      "outputs": []
    },
    {
      "cell_type": "code",
      "source": [
        "sc=StandardScaler()"
      ],
      "metadata": {
        "id": "Ls0LqXK68THY"
      },
      "execution_count": 57,
      "outputs": []
    },
    {
      "cell_type": "markdown",
      "source": [
        "**fit_transform** helps in scaling the dataset with **StandardScaler()**"
      ],
      "metadata": {
        "id": "Yc8iOzqO8XS_"
      }
    },
    {
      "cell_type": "code",
      "source": [
        "X=pd.DataFrame(sc.fit_transform(X),columns=col_names)"
      ],
      "metadata": {
        "id": "IKM5xp_uCK0Q"
      },
      "execution_count": 63,
      "outputs": []
    },
    {
      "cell_type": "markdown",
      "source": [
        "**Train_test_split** is used to split the dataset into two parts namely **Train** and **test**. The train part is used to for the **training purpose** of the model while the test part is used for the **evaluation of the model**."
      ],
      "metadata": {
        "id": "K99QZrUi6tbF"
      }
    },
    {
      "cell_type": "code",
      "source": [
        "X_train, X_test, y_train, y_test=train_test_split(X,y)"
      ],
      "metadata": {
        "id": "poCiV9oe6tnF"
      },
      "execution_count": 64,
      "outputs": []
    },
    {
      "cell_type": "code",
      "source": [
        "print(X_train)"
      ],
      "metadata": {
        "colab": {
          "base_uri": "https://localhost:8080/"
        },
        "id": "OUq2MoJZ6t6-",
        "outputId": "63807a65-aea8-476d-acf7-5132de6e34d6"
      },
      "execution_count": 65,
      "outputs": [
        {
          "output_type": "stream",
          "name": "stdout",
          "text": [
            "      Malic acid       Ash   Alcalinity of ash   Magnesium   Total phenols  \\\n",
            "126    -0.723829 -0.279695            0.602088   -0.964842        0.712858   \n",
            "26     -0.508390  0.926567           -1.019451   -0.473348        0.889114   \n",
            "54     -0.598156 -0.425909           -0.929365    1.281985        0.488531   \n",
            "66     -1.190614 -2.436346           -1.349764   -1.526548        1.097417   \n",
            "106    -0.544297 -0.901103           -0.148624   -1.386122       -1.033684   \n",
            "..           ...       ...                 ...         ...             ...   \n",
            "43      1.475446 -0.279695           -0.599052    0.228785        0.552624   \n",
            "45      1.529305  0.268606           -0.178653    0.790492        0.889114   \n",
            "71     -0.741782  1.109334            1.653086   -0.964842        1.049347   \n",
            "149     1.403632 -0.023821            0.602088    0.930918       -1.418243   \n",
            "123     3.109192 -0.864550            0.602088   -0.964842        0.520578   \n",
            "\n",
            "      Flavanoids   Nonflavanoids phenols   Proanthocyanins   Color intensity  \\\n",
            "126     1.125176                0.226796          0.313800         -0.483652   \n",
            "26      0.914343               -0.176095         -0.246867         -0.111642   \n",
            "54      0.874184               -1.223610          0.050988          0.342557   \n",
            "66      1.155295               -0.820719          1.207363          0.104643   \n",
            "106     0.000733                0.065639          0.068508         -0.717240   \n",
            "..           ...                     ...               ...               ...   \n",
            "43      0.603113               -0.337251          0.121071         -0.301973   \n",
            "45      0.623193               -0.498407         -0.597284          0.078689   \n",
            "71      0.834026               -1.223610          0.489009         -0.725891   \n",
            "149    -0.641805               -0.176095         -0.790013          1.878180   \n",
            "123     0.623193               -0.498407          0.734300         -1.063296   \n",
            "\n",
            "          Hue   OD280/OD315 of diluted wines   Prolines  \n",
            "126 -1.173391                       0.322481  -1.257535  \n",
            "26  -0.164303                       0.859210   1.426993  \n",
            "54  -0.164303                       0.830961   0.997086  \n",
            "66   0.713164                       0.802712  -0.779861  \n",
            "106  0.186684                       0.788587  -0.754385  \n",
            "..        ...                            ...        ...  \n",
            "43  -0.603037                       0.548472  -0.213021  \n",
            "45  -0.383670                       1.014578   1.060776  \n",
            "71   1.766126                       0.774463  -1.072834  \n",
            "149 -1.699872                      -1.810307  -0.627005  \n",
            "123 -0.997898                       0.689716  -1.168369  \n",
            "\n",
            "[133 rows x 12 columns]\n"
          ]
        }
      ]
    },
    {
      "cell_type": "code",
      "source": [
        "print(X_test)"
      ],
      "metadata": {
        "colab": {
          "base_uri": "https://localhost:8080/"
        },
        "id": "6h_uIFEq6u1K",
        "outputId": "2b676ef3-c1f8-48f6-eb8d-42fa597bdb9f"
      },
      "execution_count": 66,
      "outputs": [
        {
          "output_type": "stream",
          "name": "stdout",
          "text": [
            "      Malic acid       Ash   Alcalinity of ash   Magnesium   Total phenols  \\\n",
            "33     -0.723829  1.218995            0.001518    2.264972        1.049347   \n",
            "12     -0.544297  0.158946           -1.049479   -0.754202        0.488531   \n",
            "83      1.367726 -0.170035            0.902373   -1.035055       -1.033684   \n",
            "58     -0.813595  0.487926           -0.839280    0.579852        1.770396   \n",
            "14     -0.418624  0.049285           -2.250619    0.158572        1.610163   \n",
            "11     -0.768712 -0.170035           -0.809251   -0.332922       -0.152402   \n",
            "113    -1.432983  0.487926            0.451946   -0.824415        0.296251   \n",
            "10     -0.158301 -0.243142           -0.448909    0.369212        1.049347   \n",
            "79      1.376703  0.122392            1.052516    0.088358        0.857067   \n",
            "90     -0.454530 -0.170035           -0.298767   -1.315908       -1.113800   \n",
            "8      -0.625086 -0.718336           -1.650049   -0.192495        0.808997   \n",
            "98     -1.136754 -0.974210           -0.298767   -0.824415        1.962676   \n",
            "136     2.139716  0.634140            0.451946   -0.754202       -1.466313   \n",
            "24     -0.472483  0.890014            0.151661   -0.262708        0.376368   \n",
            "143     2.346179 -0.060375            0.151661   -0.543562       -0.472868   \n",
            "60     -1.109824 -0.316249           -1.049479    0.088358       -0.392751   \n",
            "88     -0.248068  0.341713            0.632117   -1.105268       -0.552984   \n",
            "41      1.349773 -0.901103           -0.208681   -0.683988        0.248181   \n",
            "148     0.811175  0.049285            0.602088   -0.543562       -0.585031   \n",
            "97     -0.831549 -1.412851           -1.049479   -1.035055        0.408415   \n",
            "82     -1.082894  0.524480            1.352801   -1.526548       -0.472868   \n",
            "22     -0.427600 -0.023821           -0.869308    0.088358        0.504554   \n",
            "118     0.981731 -1.412851           -1.049479   -1.386122       -1.065731   \n",
            "34     -0.481460  1.036228           -0.148624    0.720278        0.087948   \n",
            "176     0.227694  0.012732            0.151661    1.422412       -1.033684   \n",
            "111     0.084068 -0.718336            0.451946   -0.824415        0.408415   \n",
            "135     0.110998 -0.608676           -0.298767   -0.403135       -1.081754   \n",
            "62     -0.975175 -1.632171           -0.448909   -0.403135       -0.312635   \n",
            "96     -0.194208  1.365208            0.602088    2.405399       -1.113800   \n",
            "50     -0.544297 -1.193530           -2.130505   -0.543562        0.680811   \n",
            "52     -0.526343  0.195499           -1.650049    0.790492        2.539515   \n",
            "177     1.583165  1.365208            1.502943   -0.262708       -0.392751   \n",
            "117    -0.652016 -0.645229            0.902373    0.579852       -0.472868   \n",
            "20     -0.634063 -0.316249           -1.049479    1.843692        1.129464   \n",
            "116    -0.777689 -1.376297            0.391889   -0.964842       -0.504914   \n",
            "102     0.102021  0.341713            0.451946   -0.122282        0.424438   \n",
            "48     -0.283974  0.122392           -0.208681    0.228785        0.728881   \n",
            "46      1.125357 -0.316249           -1.049479    0.158572        1.530047   \n",
            "129     1.762698  0.049285            0.752231   -1.386122       -0.312635   \n",
            "128    -0.634063 -0.243142            1.502943   -0.824415       -0.120355   \n",
            "127    -0.185231  1.511422            2.704083   -0.543562       -0.264565   \n",
            "142     0.748338  1.292101            1.202658   -0.192495       -1.193917   \n",
            "94     -0.310904 -0.316249           -0.448909   -0.122282        1.161510   \n",
            "89     -0.903362 -0.243142            1.232687   -2.088255       -0.152402   \n",
            "76     -1.289357 -2.399793           -1.049479   -0.964842       -0.552984   \n",
            "\n",
            "      Flavanoids   Nonflavanoids phenols   Proanthocyanins   Color intensity  \\\n",
            "33      0.713550                1.113154         -0.422075          0.147900   \n",
            "12      0.733629               -0.578985          0.383884          0.234414   \n",
            "83     -0.441012                1.999513          0.050988         -0.111642   \n",
            "58      1.647239               -1.384766          0.786863          0.753498   \n",
            "14      1.617120               -0.578985          2.398780          1.056297   \n",
            "11      0.402320               -0.820719         -0.036617         -0.025128   \n",
            "113    -0.019346                0.468530         -0.264388         -0.855662   \n",
            "10      1.295850               -1.143031          1.382572          0.299300   \n",
            "79      0.522796                0.549108          0.629175         -1.076273   \n",
            "90     -0.531369                1.274310          0.086029         -1.149810   \n",
            "8       0.954502               -0.578985          0.681738          0.061386   \n",
            "98      1.727556               -0.981875          0.629175         -0.241413   \n",
            "136    -1.565455                1.354888         -1.385721         -0.522583   \n",
            "24      0.583034               -0.659563          0.121071         -0.665332   \n",
            "143    -1.234146                0.871420         -1.000263         -0.284670   \n",
            "60     -0.942995                2.160669         -2.069034         -0.773474   \n",
            "88     -0.340615                0.951998         -0.422075         -0.976782   \n",
            "41      0.653312               -0.740141         -0.194304         -0.336578   \n",
            "148    -1.274305                0.710264         -0.597284          1.454261   \n",
            "97      0.472598               -0.578985          0.313800         -0.933525   \n",
            "82     -0.451052                0.307374         -0.334471         -1.236324   \n",
            "22      0.854105               -0.740141          0.173634         -0.544212   \n",
            "118    -0.782361                0.549108         -1.333159         -0.717240   \n",
            "34      0.502717               -0.578985         -0.089179         -0.371184   \n",
            "176    -1.354622                1.354888         -0.229346          1.834923   \n",
            "111     0.241685               -0.820719         -0.649846         -1.322838   \n",
            "135    -1.374701                2.160669         -1.140430          0.883269   \n",
            "62     -0.240219               -0.337251         -1.508367         -0.544212   \n",
            "96     -1.043392               -1.787656         -0.054137         -1.106553   \n",
            "50      1.245652               -1.545922          2.311176          0.926526   \n",
            "52      1.717516               -0.337251          0.489009          0.861641   \n",
            "177    -1.274305                1.596623         -0.422075          1.791666   \n",
            "117     0.060971               -0.176095          0.033467         -1.296884   \n",
            "20      1.145255               -0.981875          0.891988          0.256043   \n",
            "116    -0.430972               -0.498407         -0.106700         -1.344466   \n",
            "102     0.081051               -0.176095         -0.492158         -0.976782   \n",
            "48      0.894264               -0.337251          1.382572          0.493956   \n",
            "46      1.145255               -0.740141          1.049676         -0.068385   \n",
            "129    -0.280377                0.468530         -0.422075         -1.063296   \n",
            "128     0.422399                0.307374          0.541571         -1.270929   \n",
            "127     0.211566                1.757779          0.296279         -0.890268   \n",
            "142    -1.515257                1.113154         -1.823742         -0.306298   \n",
            "94      0.231646               -1.545922         -0.422075         -0.782125   \n",
            "89     -0.441012                0.468530         -0.369513         -1.435306   \n",
            "76      0.000733               -0.981875         -0.229346         -0.198156   \n",
            "\n",
            "          Hue   OD280/OD315 of diluted wines   Prolines  \n",
            "33   1.283518                       0.548472   1.554373  \n",
            "12   0.844785                       0.407228   1.825055  \n",
            "83  -0.515290                      -0.849846  -0.738463  \n",
            "58  -0.295924                       0.364855   1.713598  \n",
            "14   1.064151                       0.548472   2.547935  \n",
            "11   0.932531                       0.294232   1.697675  \n",
            "113  0.625418                      -0.426113  -0.996407  \n",
            "10   1.283518                       0.788587   2.430109  \n",
            "79   1.020278                       0.732090  -0.904056  \n",
            "90   0.537671                      -0.482611  -0.849920  \n",
            "8    0.537671                       0.336606   0.949319  \n",
            "98   0.362177                       0.223610  -0.276711  \n",
            "136 -0.910151                      -1.895054  -0.085641  \n",
            "24   0.713164                       1.706675   0.312420  \n",
            "143 -0.208177                      -0.793348  -0.627005  \n",
            "60   1.283518                      -1.330077  -0.213021  \n",
            "88   0.186684                       0.195361  -0.213021  \n",
            "41  -0.208177                       0.548472   0.917474  \n",
            "148 -1.787619                      -1.400699  -0.308556  \n",
            "97   1.195772                       0.181237  -1.015514  \n",
            "82   1.546759                       0.152988  -0.372246  \n",
            "22   0.669291                       1.960915   0.917474  \n",
            "118 -1.129518                      -0.694478  -1.193845  \n",
            "34   0.625418                       0.364855   1.108544  \n",
            "176 -1.568252                      -1.400699   0.296498  \n",
            "111 -0.252050                       0.237735  -1.343516  \n",
            "135 -0.997898                      -1.457197  -0.165254  \n",
            "62   1.195772                      -0.214247  -0.372246  \n",
            "96  -0.032683                      -0.496736  -0.388168  \n",
            "50   0.713164                       0.421352   1.283691  \n",
            "52   0.230557                       0.915707   1.411071  \n",
            "177 -1.524378                      -1.428948  -0.595160  \n",
            "117  0.449924                       0.491974  -1.279827  \n",
            "20   0.581544                       1.551307   0.105428  \n",
            "116 -0.032683                       1.014578  -0.802153  \n",
            "102 -0.690784                       1.085200  -0.983669  \n",
            "48   0.493797                       0.195361   0.997086  \n",
            "46   0.362177                       1.169947   1.013009  \n",
            "129 -0.734657                      -0.058878  -0.531471  \n",
            "128 -0.295924                       0.237735  -1.289380  \n",
            "127  0.055064                      -0.242496  -0.894503  \n",
            "142 -0.295924                      -0.779224  -0.722540  \n",
            "94   0.888658                       0.491974  -1.279827  \n",
            "89   0.493797                       0.845085  -0.388168  \n",
            "76   1.020278                      -0.185998  -1.130155  \n"
          ]
        }
      ]
    },
    {
      "cell_type": "code",
      "source": [
        "print(X_test.shape)"
      ],
      "metadata": {
        "colab": {
          "base_uri": "https://localhost:8080/"
        },
        "id": "k_iZFEv26v2l",
        "outputId": "b52264a5-1073-4fa3-f2ae-b71b4d70123e"
      },
      "execution_count": 67,
      "outputs": [
        {
          "output_type": "stream",
          "name": "stdout",
          "text": [
            "(45, 12)\n"
          ]
        }
      ]
    },
    {
      "cell_type": "markdown",
      "source": [
        "Importing **LinearRegression** model from sklearn. Each dataset can be predicted with the  model that suits the dataset. In this dataset, we have **continuous values** for Alcohol so Regression is used."
      ],
      "metadata": {
        "id": "yj3dY3Gm6w1F"
      }
    },
    {
      "cell_type": "code",
      "source": [
        "from sklearn.linear_model import LinearRegression"
      ],
      "metadata": {
        "id": "J6D8D4546x4V"
      },
      "execution_count": 68,
      "outputs": []
    },
    {
      "cell_type": "markdown",
      "source": [
        "**Model Selection**"
      ],
      "metadata": {
        "id": "d1kbNCO46zme"
      }
    },
    {
      "cell_type": "code",
      "source": [
        "model=LinearRegression()"
      ],
      "metadata": {
        "id": "BLgr-jfg6z73"
      },
      "execution_count": 69,
      "outputs": []
    },
    {
      "cell_type": "code",
      "source": [
        "print(X_train)"
      ],
      "metadata": {
        "colab": {
          "base_uri": "https://localhost:8080/"
        },
        "id": "1Tvhvrh08iMB",
        "outputId": "ba557e60-f1af-4d10-da6e-4743571c169c"
      },
      "execution_count": 70,
      "outputs": [
        {
          "output_type": "stream",
          "name": "stdout",
          "text": [
            "      Malic acid       Ash   Alcalinity of ash   Magnesium   Total phenols  \\\n",
            "126    -0.723829 -0.279695            0.602088   -0.964842        0.712858   \n",
            "26     -0.508390  0.926567           -1.019451   -0.473348        0.889114   \n",
            "54     -0.598156 -0.425909           -0.929365    1.281985        0.488531   \n",
            "66     -1.190614 -2.436346           -1.349764   -1.526548        1.097417   \n",
            "106    -0.544297 -0.901103           -0.148624   -1.386122       -1.033684   \n",
            "..           ...       ...                 ...         ...             ...   \n",
            "43      1.475446 -0.279695           -0.599052    0.228785        0.552624   \n",
            "45      1.529305  0.268606           -0.178653    0.790492        0.889114   \n",
            "71     -0.741782  1.109334            1.653086   -0.964842        1.049347   \n",
            "149     1.403632 -0.023821            0.602088    0.930918       -1.418243   \n",
            "123     3.109192 -0.864550            0.602088   -0.964842        0.520578   \n",
            "\n",
            "      Flavanoids   Nonflavanoids phenols   Proanthocyanins   Color intensity  \\\n",
            "126     1.125176                0.226796          0.313800         -0.483652   \n",
            "26      0.914343               -0.176095         -0.246867         -0.111642   \n",
            "54      0.874184               -1.223610          0.050988          0.342557   \n",
            "66      1.155295               -0.820719          1.207363          0.104643   \n",
            "106     0.000733                0.065639          0.068508         -0.717240   \n",
            "..           ...                     ...               ...               ...   \n",
            "43      0.603113               -0.337251          0.121071         -0.301973   \n",
            "45      0.623193               -0.498407         -0.597284          0.078689   \n",
            "71      0.834026               -1.223610          0.489009         -0.725891   \n",
            "149    -0.641805               -0.176095         -0.790013          1.878180   \n",
            "123     0.623193               -0.498407          0.734300         -1.063296   \n",
            "\n",
            "          Hue   OD280/OD315 of diluted wines   Prolines  \n",
            "126 -1.173391                       0.322481  -1.257535  \n",
            "26  -0.164303                       0.859210   1.426993  \n",
            "54  -0.164303                       0.830961   0.997086  \n",
            "66   0.713164                       0.802712  -0.779861  \n",
            "106  0.186684                       0.788587  -0.754385  \n",
            "..        ...                            ...        ...  \n",
            "43  -0.603037                       0.548472  -0.213021  \n",
            "45  -0.383670                       1.014578   1.060776  \n",
            "71   1.766126                       0.774463  -1.072834  \n",
            "149 -1.699872                      -1.810307  -0.627005  \n",
            "123 -0.997898                       0.689716  -1.168369  \n",
            "\n",
            "[133 rows x 12 columns]\n"
          ]
        }
      ]
    },
    {
      "cell_type": "markdown",
      "source": [
        "**Fitting** the **train data** into the model"
      ],
      "metadata": {
        "id": "OqMsMQna8pZJ"
      }
    },
    {
      "cell_type": "code",
      "source": [
        "model.fit(X_train,y_train)"
      ],
      "metadata": {
        "colab": {
          "base_uri": "https://localhost:8080/",
          "height": 74
        },
        "id": "gM9L8rz68qRx",
        "outputId": "d20686ee-244e-46f7-cd87-5b5a4969c886"
      },
      "execution_count": 71,
      "outputs": [
        {
          "output_type": "execute_result",
          "data": {
            "text/plain": [
              "LinearRegression()"
            ],
            "text/html": [
              "<style>#sk-container-id-4 {color: black;background-color: white;}#sk-container-id-4 pre{padding: 0;}#sk-container-id-4 div.sk-toggleable {background-color: white;}#sk-container-id-4 label.sk-toggleable__label {cursor: pointer;display: block;width: 100%;margin-bottom: 0;padding: 0.3em;box-sizing: border-box;text-align: center;}#sk-container-id-4 label.sk-toggleable__label-arrow:before {content: \"▸\";float: left;margin-right: 0.25em;color: #696969;}#sk-container-id-4 label.sk-toggleable__label-arrow:hover:before {color: black;}#sk-container-id-4 div.sk-estimator:hover label.sk-toggleable__label-arrow:before {color: black;}#sk-container-id-4 div.sk-toggleable__content {max-height: 0;max-width: 0;overflow: hidden;text-align: left;background-color: #f0f8ff;}#sk-container-id-4 div.sk-toggleable__content pre {margin: 0.2em;color: black;border-radius: 0.25em;background-color: #f0f8ff;}#sk-container-id-4 input.sk-toggleable__control:checked~div.sk-toggleable__content {max-height: 200px;max-width: 100%;overflow: auto;}#sk-container-id-4 input.sk-toggleable__control:checked~label.sk-toggleable__label-arrow:before {content: \"▾\";}#sk-container-id-4 div.sk-estimator input.sk-toggleable__control:checked~label.sk-toggleable__label {background-color: #d4ebff;}#sk-container-id-4 div.sk-label input.sk-toggleable__control:checked~label.sk-toggleable__label {background-color: #d4ebff;}#sk-container-id-4 input.sk-hidden--visually {border: 0;clip: rect(1px 1px 1px 1px);clip: rect(1px, 1px, 1px, 1px);height: 1px;margin: -1px;overflow: hidden;padding: 0;position: absolute;width: 1px;}#sk-container-id-4 div.sk-estimator {font-family: monospace;background-color: #f0f8ff;border: 1px dotted black;border-radius: 0.25em;box-sizing: border-box;margin-bottom: 0.5em;}#sk-container-id-4 div.sk-estimator:hover {background-color: #d4ebff;}#sk-container-id-4 div.sk-parallel-item::after {content: \"\";width: 100%;border-bottom: 1px solid gray;flex-grow: 1;}#sk-container-id-4 div.sk-label:hover label.sk-toggleable__label {background-color: #d4ebff;}#sk-container-id-4 div.sk-serial::before {content: \"\";position: absolute;border-left: 1px solid gray;box-sizing: border-box;top: 0;bottom: 0;left: 50%;z-index: 0;}#sk-container-id-4 div.sk-serial {display: flex;flex-direction: column;align-items: center;background-color: white;padding-right: 0.2em;padding-left: 0.2em;position: relative;}#sk-container-id-4 div.sk-item {position: relative;z-index: 1;}#sk-container-id-4 div.sk-parallel {display: flex;align-items: stretch;justify-content: center;background-color: white;position: relative;}#sk-container-id-4 div.sk-item::before, #sk-container-id-4 div.sk-parallel-item::before {content: \"\";position: absolute;border-left: 1px solid gray;box-sizing: border-box;top: 0;bottom: 0;left: 50%;z-index: -1;}#sk-container-id-4 div.sk-parallel-item {display: flex;flex-direction: column;z-index: 1;position: relative;background-color: white;}#sk-container-id-4 div.sk-parallel-item:first-child::after {align-self: flex-end;width: 50%;}#sk-container-id-4 div.sk-parallel-item:last-child::after {align-self: flex-start;width: 50%;}#sk-container-id-4 div.sk-parallel-item:only-child::after {width: 0;}#sk-container-id-4 div.sk-dashed-wrapped {border: 1px dashed gray;margin: 0 0.4em 0.5em 0.4em;box-sizing: border-box;padding-bottom: 0.4em;background-color: white;}#sk-container-id-4 div.sk-label label {font-family: monospace;font-weight: bold;display: inline-block;line-height: 1.2em;}#sk-container-id-4 div.sk-label-container {text-align: center;}#sk-container-id-4 div.sk-container {/* jupyter's `normalize.less` sets `[hidden] { display: none; }` but bootstrap.min.css set `[hidden] { display: none !important; }` so we also need the `!important` here to be able to override the default hidden behavior on the sphinx rendered scikit-learn.org. See: https://github.com/scikit-learn/scikit-learn/issues/21755 */display: inline-block !important;position: relative;}#sk-container-id-4 div.sk-text-repr-fallback {display: none;}</style><div id=\"sk-container-id-4\" class=\"sk-top-container\"><div class=\"sk-text-repr-fallback\"><pre>LinearRegression()</pre><b>In a Jupyter environment, please rerun this cell to show the HTML representation or trust the notebook. <br />On GitHub, the HTML representation is unable to render, please try loading this page with nbviewer.org.</b></div><div class=\"sk-container\" hidden><div class=\"sk-item\"><div class=\"sk-estimator sk-toggleable\"><input class=\"sk-toggleable__control sk-hidden--visually\" id=\"sk-estimator-id-4\" type=\"checkbox\" checked><label for=\"sk-estimator-id-4\" class=\"sk-toggleable__label sk-toggleable__label-arrow\">LinearRegression</label><div class=\"sk-toggleable__content\"><pre>LinearRegression()</pre></div></div></div></div></div>"
            ]
          },
          "metadata": {},
          "execution_count": 71
        }
      ]
    },
    {
      "cell_type": "markdown",
      "source": [
        "**Making predictions**"
      ],
      "metadata": {
        "id": "MDtdmSQz8quk"
      }
    },
    {
      "cell_type": "code",
      "source": [
        "pred=model.predict(X_test)\n",
        "print(pred)"
      ],
      "metadata": {
        "colab": {
          "base_uri": "https://localhost:8080/"
        },
        "id": "RjKEfMds8q6b",
        "outputId": "bf136d9c-fd9c-48ed-dc7d-6da025fa189d"
      },
      "execution_count": 72,
      "outputs": [
        {
          "output_type": "stream",
          "name": "stdout",
          "text": [
            "[13.57125713 13.81994524 12.51279687 13.93435703 14.42172631 13.59417229\n",
            " 12.21841826 13.93671266 12.36095005 12.20329166 13.45067747 12.74194169\n",
            " 12.87467449 13.01421273 12.89872298 12.626985   12.49716131 13.3294076\n",
            " 13.26913997 12.34669908 12.24596966 13.32309486 12.46683326 13.31562539\n",
            " 13.47155006 12.10254824 13.06378204 12.58608287 12.48869613 13.82922756\n",
            " 14.04273371 13.31476181 11.86749744 13.23149186 12.10283131 12.4308592\n",
            " 13.43655934 13.62757741 12.54727229 11.78757732 11.98854977 12.65245627\n",
            " 12.5187543  12.19231266 12.38473038]\n"
          ]
        }
      ]
    },
    {
      "cell_type": "markdown",
      "source": [
        "**Evalution** of the **performance** of the model"
      ],
      "metadata": {
        "id": "rA05YnA28rI5"
      }
    },
    {
      "cell_type": "markdown",
      "source": [
        "We can't use the normal **accuracy_score** as it is **not suitable** for the **regression** based problems"
      ],
      "metadata": {
        "id": "DQkcwWLP96U1"
      }
    },
    {
      "cell_type": "code",
      "source": [
        "from sklearn.metrics import mean_absolute_error, mean_squared_error\n",
        "\n",
        "# Assuming y_true and y_pred are the true and predicted values, respectively\n",
        "mae = mean_absolute_error(y_test, pred)\n",
        "mse = mean_squared_error(y_test, pred)\n",
        "rmse = mean_squared_error(y_test, pred, squared=False)"
      ],
      "metadata": {
        "id": "mMKSX4F38rcM"
      },
      "execution_count": 73,
      "outputs": []
    },
    {
      "cell_type": "markdown",
      "source": [
        "**Displaying the accuracy**"
      ],
      "metadata": {
        "id": "aOZ4EqXJ8_Gh"
      }
    },
    {
      "cell_type": "code",
      "source": [
        "print(mae,mse,rmse)"
      ],
      "metadata": {
        "colab": {
          "base_uri": "https://localhost:8080/"
        },
        "id": "641ePoZZ8_Uc",
        "outputId": "0bb98501-f1b5-4f1c-9d6f-ae26e55ba324"
      },
      "execution_count": 74,
      "outputs": [
        {
          "output_type": "stream",
          "name": "stdout",
          "text": [
            "0.46073005702163433 0.3098201420236124 0.5566148956177982\n"
          ]
        }
      ]
    }
  ]
}